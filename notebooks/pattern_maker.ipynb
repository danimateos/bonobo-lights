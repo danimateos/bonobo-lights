{
 "cells": [
  {
   "cell_type": "markdown",
   "id": "f75c111b-91a8-47d8-a01f-5ce1f6f87072",
   "metadata": {},
   "source": [
    "# Coding patterns"
   ]
  },
  {
   "cell_type": "code",
   "execution_count": null,
   "id": "d62165b5-ef14-4247-854e-d59b022a7d7a",
   "metadata": {
    "tags": []
   },
   "outputs": [],
   "source": [
    "import pandas as pd\n",
    "import numpy as np\n",
    "import matplotlib.pyplot as plt\n",
    "import seaborn as sns\n",
    "\n",
    "df = pd.read_excel('./bonobo_patterns.xlsx')\n",
    "df"
   ]
  },
  {
   "cell_type": "code",
   "execution_count": null,
   "id": "7a4d1955-5a6d-4b2b-af72-eee8011620d5",
   "metadata": {},
   "outputs": [],
   "source": [
    "pattern = df.fillna(0).values[:, 3:].astype(int)\n",
    "pattern.shape"
   ]
  },
  {
   "cell_type": "code",
   "execution_count": null,
   "id": "76cc65e2-ef76-4ac1-9546-d9e62ed80c1a",
   "metadata": {},
   "outputs": [],
   "source": [
    "sns.heatmap(pattern, cbar=False);"
   ]
  },
  {
   "cell_type": "code",
   "execution_count": null,
   "id": "f30e5f4e-5639-4684-8215-c3e5cc77ef4a",
   "metadata": {},
   "outputs": [],
   "source": [
    "print(np.array2string(pattern.transpose()).replace('[', '{').replace(']', '}').replace(' ', ', '))"
   ]
  },
  {
   "cell_type": "code",
   "execution_count": null,
   "id": "0e6f4208-d579-47e0-9a47-99691a1c261b",
   "metadata": {},
   "outputs": [],
   "source": [
    "from PIL import Image\n",
    "\n",
    "image = Image.open(\"../assets/this_is_cool.png\")\n",
    "asarray = np.array(image)[:, :, :3]  ## drop alpha\n",
    "asarray.shape  ## h, w, ch"
   ]
  },
  {
   "cell_type": "code",
   "execution_count": null,
   "id": "837ef9b0-2e25-4d3e-a710-1920131fff0f",
   "metadata": {},
   "outputs": [],
   "source": [
    "plt.imshow(asarray)"
   ]
  },
  {
   "cell_type": "code",
   "execution_count": null,
   "id": "cb27ab31-f089-4222-bc99-c90b188b37ff",
   "metadata": {},
   "outputs": [],
   "source": [
    "plt.imshow(np.transpose(asarray, (1, 0, 2)))"
   ]
  },
  {
   "cell_type": "code",
   "execution_count": null,
   "id": "31842a7f-7d2d-496a-a6e5-b933e44a5b93",
   "metadata": {},
   "outputs": [],
   "source": [
    "plt.imshow(np.transpose(asarray, (1, 0, 2))[:, ::-1])"
   ]
  },
  {
   "cell_type": "code",
   "execution_count": null,
   "id": "662b7f3e-6ec2-4942-a30b-12206a2566d5",
   "metadata": {},
   "outputs": [],
   "source": [
    "transformed = np.transpose(asarray, (1, 0, 2))[:, ::-1]"
   ]
  },
  {
   "cell_type": "code",
   "execution_count": null,
   "id": "dbe24cf5-03c7-4b88-8afb-6e05b4ffa872",
   "metadata": {},
   "outputs": [],
   "source": [
    "transformed"
   ]
  },
  {
   "cell_type": "code",
   "execution_count": null,
   "id": "acdbb281-2961-4989-8db2-23d144b0e0e8",
   "metadata": {},
   "outputs": [],
   "source": [
    "transformed.reshape([-1])"
   ]
  },
  {
   "cell_type": "code",
   "execution_count": null,
   "id": "d96d8e4e-4aa3-4a37-86ec-4a6cbb072850",
   "metadata": {},
   "outputs": [],
   "source": [
    "flat = transformed.reshape([-1])\n",
    "print(\"{\")\n",
    "for row in range(flat.size // transformed.shape[2]):\n",
    "    print\n",
    "    this = flat[row*3 : (row +1)*3]\n",
    "    print(f'%d, %d, %d,' % (this[0], this[1], this[2])) "
   ]
  },
  {
   "cell_type": "code",
   "execution_count": null,
   "id": "bfe135a4-0e0a-468e-939d-d8fa4613edc5",
   "metadata": {},
   "outputs": [],
   "source": []
  },
  {
   "cell_type": "code",
   "execution_count": null,
   "id": "2758805b-e887-4724-a1cc-b83d2fee1f5e",
   "metadata": {},
   "outputs": [],
   "source": []
  },
  {
   "cell_type": "code",
   "execution_count": null,
   "id": "d0b546aa-e983-4e0d-b29e-d09ace60dc4d",
   "metadata": {},
   "outputs": [],
   "source": []
  }
 ],
 "metadata": {
  "kernelspec": {
   "display_name": "Python [conda env:master2023]",
   "language": "python",
   "name": "conda-env-master2023-py"
  },
  "language_info": {
   "codemirror_mode": {
    "name": "ipython",
    "version": 3
   },
   "file_extension": ".py",
   "mimetype": "text/x-python",
   "name": "python",
   "nbconvert_exporter": "python",
   "pygments_lexer": "ipython3",
   "version": "3.10.8"
  }
 },
 "nbformat": 4,
 "nbformat_minor": 5
}
